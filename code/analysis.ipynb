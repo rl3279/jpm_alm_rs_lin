{
 "cells": [
  {
   "cell_type": "code",
   "execution_count": 1,
   "metadata": {},
   "outputs": [],
   "source": [
    "# Author: Ruoyu Lin\n",
    "# Docstring style: Sphinx\n",
    "\n",
    "from fred_query import get_all_series\n",
    "import matplotlib.pyplot as plt\n",
    "import numpy as np\n",
    "import pandas as pd\n",
    "from sklearn.decomposition import PCA\n",
    "from sklearn.linear_model import LinearRegression\n",
    "\n",
    "TICKERS = [\"GS\"+str(n) for n in [1, 2, 3, 5, 7, 10]]\n",
    "N = len(TICKERS)"
   ]
  },
  {
   "cell_type": "markdown",
   "metadata": {},
   "source": [
    "# Part I: Data Loading and Dimensionality Reduction"
   ]
  },
  {
   "cell_type": "markdown",
   "metadata": {},
   "source": [
    "## Data Loading and transforming"
   ]
  },
  {
   "cell_type": "code",
   "execution_count": 2,
   "metadata": {},
   "outputs": [],
   "source": [
    "# Use query code to load data in a dataframe\n",
    "df = get_all_series(TICKERS, as_ret=True)\n",
    "\n",
    "# In standard practice, we demean the data before fit for stability\n",
    "df = df.apply(lambda x: x - x.mean())\n",
    "\n",
    "# Get data matrix\n",
    "val = df.values"
   ]
  },
  {
   "cell_type": "markdown",
   "metadata": {},
   "source": [
    "## Define model and preliminary fitting"
   ]
  },
  {
   "cell_type": "code",
   "execution_count": 3,
   "metadata": {},
   "outputs": [
    {
     "data": {
      "text/html": [
       "<style>#sk-container-id-1 {color: black;background-color: white;}#sk-container-id-1 pre{padding: 0;}#sk-container-id-1 div.sk-toggleable {background-color: white;}#sk-container-id-1 label.sk-toggleable__label {cursor: pointer;display: block;width: 100%;margin-bottom: 0;padding: 0.3em;box-sizing: border-box;text-align: center;}#sk-container-id-1 label.sk-toggleable__label-arrow:before {content: \"▸\";float: left;margin-right: 0.25em;color: #696969;}#sk-container-id-1 label.sk-toggleable__label-arrow:hover:before {color: black;}#sk-container-id-1 div.sk-estimator:hover label.sk-toggleable__label-arrow:before {color: black;}#sk-container-id-1 div.sk-toggleable__content {max-height: 0;max-width: 0;overflow: hidden;text-align: left;background-color: #f0f8ff;}#sk-container-id-1 div.sk-toggleable__content pre {margin: 0.2em;color: black;border-radius: 0.25em;background-color: #f0f8ff;}#sk-container-id-1 input.sk-toggleable__control:checked~div.sk-toggleable__content {max-height: 200px;max-width: 100%;overflow: auto;}#sk-container-id-1 input.sk-toggleable__control:checked~label.sk-toggleable__label-arrow:before {content: \"▾\";}#sk-container-id-1 div.sk-estimator input.sk-toggleable__control:checked~label.sk-toggleable__label {background-color: #d4ebff;}#sk-container-id-1 div.sk-label input.sk-toggleable__control:checked~label.sk-toggleable__label {background-color: #d4ebff;}#sk-container-id-1 input.sk-hidden--visually {border: 0;clip: rect(1px 1px 1px 1px);clip: rect(1px, 1px, 1px, 1px);height: 1px;margin: -1px;overflow: hidden;padding: 0;position: absolute;width: 1px;}#sk-container-id-1 div.sk-estimator {font-family: monospace;background-color: #f0f8ff;border: 1px dotted black;border-radius: 0.25em;box-sizing: border-box;margin-bottom: 0.5em;}#sk-container-id-1 div.sk-estimator:hover {background-color: #d4ebff;}#sk-container-id-1 div.sk-parallel-item::after {content: \"\";width: 100%;border-bottom: 1px solid gray;flex-grow: 1;}#sk-container-id-1 div.sk-label:hover label.sk-toggleable__label {background-color: #d4ebff;}#sk-container-id-1 div.sk-serial::before {content: \"\";position: absolute;border-left: 1px solid gray;box-sizing: border-box;top: 0;bottom: 0;left: 50%;z-index: 0;}#sk-container-id-1 div.sk-serial {display: flex;flex-direction: column;align-items: center;background-color: white;padding-right: 0.2em;padding-left: 0.2em;position: relative;}#sk-container-id-1 div.sk-item {position: relative;z-index: 1;}#sk-container-id-1 div.sk-parallel {display: flex;align-items: stretch;justify-content: center;background-color: white;position: relative;}#sk-container-id-1 div.sk-item::before, #sk-container-id-1 div.sk-parallel-item::before {content: \"\";position: absolute;border-left: 1px solid gray;box-sizing: border-box;top: 0;bottom: 0;left: 50%;z-index: -1;}#sk-container-id-1 div.sk-parallel-item {display: flex;flex-direction: column;z-index: 1;position: relative;background-color: white;}#sk-container-id-1 div.sk-parallel-item:first-child::after {align-self: flex-end;width: 50%;}#sk-container-id-1 div.sk-parallel-item:last-child::after {align-self: flex-start;width: 50%;}#sk-container-id-1 div.sk-parallel-item:only-child::after {width: 0;}#sk-container-id-1 div.sk-dashed-wrapped {border: 1px dashed gray;margin: 0 0.4em 0.5em 0.4em;box-sizing: border-box;padding-bottom: 0.4em;background-color: white;}#sk-container-id-1 div.sk-label label {font-family: monospace;font-weight: bold;display: inline-block;line-height: 1.2em;}#sk-container-id-1 div.sk-label-container {text-align: center;}#sk-container-id-1 div.sk-container {/* jupyter's `normalize.less` sets `[hidden] { display: none; }` but bootstrap.min.css set `[hidden] { display: none !important; }` so we also need the `!important` here to be able to override the default hidden behavior on the sphinx rendered scikit-learn.org. See: https://github.com/scikit-learn/scikit-learn/issues/21755 */display: inline-block !important;position: relative;}#sk-container-id-1 div.sk-text-repr-fallback {display: none;}</style><div id=\"sk-container-id-1\" class=\"sk-top-container\"><div class=\"sk-text-repr-fallback\"><pre>PCA()</pre><b>In a Jupyter environment, please rerun this cell to show the HTML representation or trust the notebook. <br />On GitHub, the HTML representation is unable to render, please try loading this page with nbviewer.org.</b></div><div class=\"sk-container\" hidden><div class=\"sk-item\"><div class=\"sk-estimator sk-toggleable\"><input class=\"sk-toggleable__control sk-hidden--visually\" id=\"sk-estimator-id-1\" type=\"checkbox\" checked><label for=\"sk-estimator-id-1\" class=\"sk-toggleable__label sk-toggleable__label-arrow\">PCA</label><div class=\"sk-toggleable__content\"><pre>PCA()</pre></div></div></div></div></div>"
      ],
      "text/plain": [
       "PCA()"
      ]
     },
     "execution_count": 3,
     "metadata": {},
     "output_type": "execute_result"
    }
   ],
   "source": [
    "# Define model and fit model\n",
    "model = PCA()\n",
    "model.fit(val)"
   ]
  },
  {
   "cell_type": "code",
   "execution_count": 4,
   "metadata": {},
   "outputs": [
    {
     "name": "stdout",
     "output_type": "stream",
     "text": [
      "explained_variance_ratio:\n",
      "[8.43055555e-01 1.24200865e-01 2.62989971e-02 4.91197940e-03\n",
      " 1.08674234e-03 4.45861871e-04]\n"
     ]
    },
    {
     "data": {
      "image/png": "[encoded data removed]",
      "text/plain": [
       "<Figure size 720x504 with 1 Axes>"
      ]
     },
     "metadata": {
      "needs_background": "light"
     },
     "output_type": "display_data"
    }
   ],
   "source": [
    "print(\"explained_variance_ratio:\")\n",
    "print(model.explained_variance_ratio_)\n",
    "fig, ax = plt.subplots(figsize = [10,7])\n",
    "ax.plot(list(range(1,N+1)), np.cumsum(model.explained_variance_ratio_))\n",
    "ax.set_xlabel(\"Num of components\")\n",
    "ax.set_ylabel(\"Cumulative variance explained\")\n",
    "ax.grid()\n",
    "plt.show()"
   ]
  },
  {
   "cell_type": "code",
   "execution_count": 5,
   "metadata": {},
   "outputs": [],
   "source": [
    "# The first two components explains over 96.7% of all variances in the multi-series.\n",
    "# Set limit of components to 2 \n",
    "transformed = model.transform(val)[:, :2]"
   ]
  },
  {
   "cell_type": "markdown",
   "metadata": {},
   "source": [
    "The above transformation has hence reduced dimension of the original data from 6 to 2, with reasonable loss of information."
   ]
  },
  {
   "cell_type": "markdown",
   "metadata": {},
   "source": [
    "# Part II: time-stability analysis"
   ]
  },
  {
   "cell_type": "markdown",
   "metadata": {},
   "source": [
    "PCA's function can essentially be viewed as a \"de-noising\" maneuver on the original data: we pick the number of dimensions we keep, and the rest we view as noise. \n",
    "\n",
    "Intuition: since the components kept explain most variance in the original data, it as well retains most information in the original data, which means that the OLS residual, the information in the original data unexplained by the chosen components, of the original series on the chosen components would be low. \n",
    "\n",
    "Then it follows that, if the PCA is time-stable, the OLS residual would be homoskedastic i.e. the variance of the residual does not demonstrate variation through time. We thus run Bresuch-Pagan tests for heteroskedasticity on the OLS residuals of each series on the PCs chosen, and use the test p-value as a metric for time stability. In terms of statistics, we have\n",
    "\n",
    "\\begin{align}\n",
    "    H_0:\\quad &\\text{Constant variance in error term}\\\\\n",
    "    H_1:\\quad &\\text{Otherwise}\n",
    "\\end{align}\n",
    "\n",
    "and we use a $\\alpha =0.05$ critical value as cutoff"
   ]
  },
  {
   "cell_type": "code",
   "execution_count": 6,
   "metadata": {},
   "outputs": [],
   "source": [
    "df.loc[:,\"pca1\"] = transformed[:,0]\n",
    "df.loc[:,\"pca2\"] = transformed[:,1]"
   ]
  },
  {
   "cell_type": "code",
   "execution_count": 7,
   "metadata": {},
   "outputs": [],
   "source": [
    "from statsmodels.compat import lzip\n",
    "import statsmodels.formula.api as smf\n",
    "import statsmodels.stats.api as sms\n",
    "\n",
    "def bresuch_pagan(col, data): # for our usage only. Not general. \n",
    "    \"\"\"Run Bresuch-Pagan test for heteroskedasticity of a col on PCs.\n",
    "    Returns the p-value of the Bresuch-Pagan test.\n",
    "    \n",
    "    :param col: column name in TICKERS\n",
    "    :type col: str\n",
    "    :param data: TICKERS data and chosen PCs\n",
    "    :type data: pd.DataFrame\n",
    "    :rtype: float\n",
    "    \"\"\"\n",
    "    fit = smf.ols(f\"{col} ~ pca1+pca2\", data).fit()\n",
    "    names = ['p-value']\n",
    "    test = sms.het_breuschpagan(fit.resid, fit.model.exog)\n",
    "    return lzip(names, test)[0][1]\n"
   ]
  },
  {
   "cell_type": "code",
   "execution_count": 8,
   "metadata": {},
   "outputs": [
    {
     "name": "stdout",
     "output_type": "stream",
     "text": [
      "Testing for heteroskedasticity for series [GS1]:\n",
      "p-value: 15.61152629284448\n",
      "Homoskedastic/time-stable: False.\n",
      "\n",
      "Testing for heteroskedasticity for series [GS2]:\n",
      "p-value: 33.604254843792916\n",
      "Homoskedastic/time-stable: False.\n",
      "\n",
      "Testing for heteroskedasticity for series [GS3]:\n",
      "p-value: 9.838094787497237\n",
      "Homoskedastic/time-stable: False.\n",
      "\n",
      "Testing for heteroskedasticity for series [GS5]:\n",
      "p-value: 88.60757808437266\n",
      "Homoskedastic/time-stable: False.\n",
      "\n",
      "Testing for heteroskedasticity for series [GS7]:\n",
      "p-value: 6.084980639930798\n",
      "Homoskedastic/time-stable: False.\n",
      "\n",
      "Testing for heteroskedasticity for series [GS10]:\n",
      "p-value: 12.108167768821001\n",
      "Homoskedastic/time-stable: False.\n",
      "\n"
     ]
    }
   ],
   "source": [
    "P_VALUE_THRESHOLD = 0.01\n",
    "\n",
    "for series in TICKERS:\n",
    "    bp_pval = bresuch_pagan(series, df)\n",
    "    homoskedastic = (bp_pval <= P_VALUE_THRESHOLD)\n",
    "    print(f\"Testing for heteroskedasticity for series [{series}]:\")\n",
    "    print(f\"p-value: {bp_pval}\")\n",
    "    print(f\"Homoskedastic/time-stable: {homoskedastic}.\")\n",
    "    print()"
   ]
  },
  {
   "cell_type": "markdown",
   "metadata": {},
   "source": [
    "This concludes our analysis. Our homoskedasticity test suffices to show that the PCA method is not time-stable. This is expected for the use case of PCA in financial analytics, as financial data is known for the presence of far-tail events. "
   ]
  }
 ],
 "metadata": {
  "kernelspec": {
   "display_name": "Python 3.9.13 ('DL')",
   "language": "python",
   "name": "python3"
  },
  "language_info": {
   "codemirror_mode": {
    "name": "ipython",
    "version": 3
   },
   "file_extension": ".py",
   "mimetype": "text/x-python",
   "name": "python",
   "nbconvert_exporter": "python",
   "pygments_lexer": "ipython3",
   "version": "3.9.13"
  },
  "orig_nbformat": 4,
  "vscode": {
   "interpreter": {
    "hash": "f229ec0112909d3b1059bba121ac69ee88b7231df1f516e6ff4928c6e70efb91"
   }
  }
 },
 "nbformat": 4,
 "nbformat_minor": 2
}
